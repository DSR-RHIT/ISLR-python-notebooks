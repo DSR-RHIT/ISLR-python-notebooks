{
 "cells": [
  {
   "cell_type": "markdown",
   "metadata": {},
   "source": [
    "# 8-3-1 Fitting Classification Trees"
   ]
  },
  {
   "cell_type": "code",
   "execution_count": 1,
   "metadata": {
    "collapsed": false
   },
   "outputs": [
    {
     "data": {
      "text/html": [
       "<div>\n",
       "<table border=\"1\" class=\"dataframe\">\n",
       "  <thead>\n",
       "    <tr style=\"text-align: right;\">\n",
       "      <th></th>\n",
       "      <th>Sales</th>\n",
       "      <th>CompPrice</th>\n",
       "      <th>Income</th>\n",
       "      <th>Advertising</th>\n",
       "      <th>Population</th>\n",
       "      <th>Price</th>\n",
       "      <th>ShelveLoc</th>\n",
       "      <th>Age</th>\n",
       "      <th>Education</th>\n",
       "      <th>Urban</th>\n",
       "      <th>US</th>\n",
       "      <th>High</th>\n",
       "    </tr>\n",
       "  </thead>\n",
       "  <tbody>\n",
       "    <tr>\n",
       "      <th>1</th>\n",
       "      <td>9.50</td>\n",
       "      <td>138</td>\n",
       "      <td>73</td>\n",
       "      <td>11</td>\n",
       "      <td>276</td>\n",
       "      <td>120</td>\n",
       "      <td>Bad</td>\n",
       "      <td>42</td>\n",
       "      <td>17</td>\n",
       "      <td>Yes</td>\n",
       "      <td>Yes</td>\n",
       "      <td>Yes</td>\n",
       "    </tr>\n",
       "    <tr>\n",
       "      <th>2</th>\n",
       "      <td>11.22</td>\n",
       "      <td>111</td>\n",
       "      <td>48</td>\n",
       "      <td>16</td>\n",
       "      <td>260</td>\n",
       "      <td>83</td>\n",
       "      <td>Good</td>\n",
       "      <td>65</td>\n",
       "      <td>10</td>\n",
       "      <td>Yes</td>\n",
       "      <td>Yes</td>\n",
       "      <td>Yes</td>\n",
       "    </tr>\n",
       "    <tr>\n",
       "      <th>3</th>\n",
       "      <td>10.06</td>\n",
       "      <td>113</td>\n",
       "      <td>35</td>\n",
       "      <td>10</td>\n",
       "      <td>269</td>\n",
       "      <td>80</td>\n",
       "      <td>Medium</td>\n",
       "      <td>59</td>\n",
       "      <td>12</td>\n",
       "      <td>Yes</td>\n",
       "      <td>Yes</td>\n",
       "      <td>Yes</td>\n",
       "    </tr>\n",
       "  </tbody>\n",
       "</table>\n",
       "</div>"
      ],
      "text/plain": [
       "   Sales  CompPrice  Income  Advertising  Population  Price ShelveLoc  Age  \\\n",
       "1   9.50        138      73           11         276    120       Bad   42   \n",
       "2  11.22        111      48           16         260     83      Good   65   \n",
       "3  10.06        113      35           10         269     80    Medium   59   \n",
       "\n",
       "   Education Urban   US High  \n",
       "1         17   Yes  Yes  Yes  \n",
       "2         10   Yes  Yes  Yes  \n",
       "3         12   Yes  Yes  Yes  "
      ]
     },
     "execution_count": 1,
     "metadata": {},
     "output_type": "execute_result"
    }
   ],
   "source": [
    "from __future__ import print_function\n",
    "import numpy as np\n",
    "import pandas as pd\n",
    "from sklearn import tree\n",
    "from sklearn.metrics import accuracy_score\n",
    "from sklearn.cross_validation import cross_val_score\n",
    "from sklearn.externals.six import StringIO\n",
    "\n",
    "df = pd.read_csv('../Data/Carseats.csv')\n",
    "df.head(3)"
   ]
  },
  {
   "cell_type": "markdown",
   "metadata": {},
   "source": [
    "Next we use Pandas to convert the `Sales` variable, which is continuous, to a binary variable called `High`. If `Sales` is less than or equal to 8, the value of `High` is `No`, otherwise it is `Yes`."
   ]
  },
  {
   "cell_type": "code",
   "execution_count": 2,
   "metadata": {
    "collapsed": false
   },
   "outputs": [],
   "source": [
    "#needed only if High column is missing from df\n",
    "#df['High'] =  pd.cut(df.Sales,bins=[-np.inf,8,np.inf],labels=['No','Yes'])\n",
    "#df.head(3)"
   ]
  },
  {
   "cell_type": "code",
   "execution_count": 3,
   "metadata": {
    "collapsed": false
   },
   "outputs": [
    {
     "data": {
      "text/plain": [
       "Sales           float64\n",
       "CompPrice         int64\n",
       "Income            int64\n",
       "Advertising       int64\n",
       "Population        int64\n",
       "Price             int64\n",
       "ShelveLoc      category\n",
       "Age               int64\n",
       "Education         int64\n",
       "Urban          category\n",
       "US             category\n",
       "High           category\n",
       "dtype: object"
      ]
     },
     "execution_count": 3,
     "metadata": {},
     "output_type": "execute_result"
    }
   ],
   "source": [
    "# define categorical variables with order: Bad < Medium < Good.\n",
    "df['ShelveLoc'] = df.ShelveLoc.astype('category')\n",
    "df.ShelveLoc.cat.reorder_categories(['Bad','Medium','Good'],inplace=True)\n",
    "df['Urban'] = df.Urban.astype('category')\n",
    "df['US'] = df.US.astype('category')\n",
    "df['High'] = df.High.astype('category')\n",
    "df.dtypes"
   ]
  },
  {
   "cell_type": "code",
   "execution_count": 4,
   "metadata": {
    "collapsed": false
   },
   "outputs": [
    {
     "data": {
      "text/html": [
       "<div>\n",
       "<table border=\"1\" class=\"dataframe\">\n",
       "  <thead>\n",
       "    <tr style=\"text-align: right;\">\n",
       "      <th></th>\n",
       "      <th>CompPrice</th>\n",
       "      <th>Income</th>\n",
       "      <th>Advertising</th>\n",
       "      <th>Population</th>\n",
       "      <th>Price</th>\n",
       "      <th>ShelveLoc</th>\n",
       "      <th>Age</th>\n",
       "      <th>Education</th>\n",
       "      <th>Urban</th>\n",
       "      <th>US</th>\n",
       "    </tr>\n",
       "  </thead>\n",
       "  <tbody>\n",
       "    <tr>\n",
       "      <th>1</th>\n",
       "      <td>138</td>\n",
       "      <td>73</td>\n",
       "      <td>11</td>\n",
       "      <td>276</td>\n",
       "      <td>120</td>\n",
       "      <td>0</td>\n",
       "      <td>42</td>\n",
       "      <td>17</td>\n",
       "      <td>1</td>\n",
       "      <td>1</td>\n",
       "    </tr>\n",
       "    <tr>\n",
       "      <th>2</th>\n",
       "      <td>111</td>\n",
       "      <td>48</td>\n",
       "      <td>16</td>\n",
       "      <td>260</td>\n",
       "      <td>83</td>\n",
       "      <td>2</td>\n",
       "      <td>65</td>\n",
       "      <td>10</td>\n",
       "      <td>1</td>\n",
       "      <td>1</td>\n",
       "    </tr>\n",
       "    <tr>\n",
       "      <th>3</th>\n",
       "      <td>113</td>\n",
       "      <td>35</td>\n",
       "      <td>10</td>\n",
       "      <td>269</td>\n",
       "      <td>80</td>\n",
       "      <td>1</td>\n",
       "      <td>59</td>\n",
       "      <td>12</td>\n",
       "      <td>1</td>\n",
       "      <td>1</td>\n",
       "    </tr>\n",
       "  </tbody>\n",
       "</table>\n",
       "</div>"
      ],
      "text/plain": [
       "   CompPrice  Income  Advertising  Population  Price  ShelveLoc  Age  \\\n",
       "1        138      73           11         276    120          0   42   \n",
       "2        111      48           16         260     83          2   65   \n",
       "3        113      35           10         269     80          1   59   \n",
       "\n",
       "   Education  Urban  US  \n",
       "1         17      1   1  \n",
       "2         10      1   1  \n",
       "3         12      1   1  "
      ]
     },
     "execution_count": 4,
     "metadata": {},
     "output_type": "execute_result"
    }
   ],
   "source": [
    "# specify features used to construct tree\n",
    "# convert category labels to integers\n",
    "data = df.drop(['Sales','High'],axis=1)\n",
    "data['ShelveLoc'] = data.ShelveLoc.cat.codes\n",
    "data['Urban'] = data.Urban.cat.codes\n",
    "data['US'] = data.US.cat.codes\n",
    "data.head(3)"
   ]
  },
  {
   "cell_type": "markdown",
   "metadata": {},
   "source": [
    "Next, we create and train a decision tree classifier called `TR`. We limit the number of leaf nodes to 27 to approximately match the tree classifier trained in ISLR. We also compute the classification error rate."
   ]
  },
  {
   "cell_type": "code",
   "execution_count": 5,
   "metadata": {
    "collapsed": false
   },
   "outputs": [
    {
     "name": "stdout",
     "output_type": "stream",
     "text": [
      "training error rate = 0.07\n",
      "tree depth = 9\n",
      "total node count = 53\n"
     ]
    }
   ],
   "source": [
    "# train decision tree\n",
    "x = data.values\n",
    "y = df.High.cat.codes\n",
    "TR = tree.DecisionTreeClassifier(max_leaf_nodes=27)\n",
    "TR.fit(x,y)\n",
    "y_pred = TR.predict(x)\n",
    "error = 1 - accuracy_score(y,y_pred)\n",
    "print('training error rate = %0.2f' % error)\n",
    "print('tree depth = %d' % TR.tree_.max_depth)\n",
    "print('total node count = %d' % TR.tree_.node_count)"
   ]
  },
  {
   "cell_type": "code",
   "execution_count": 6,
   "metadata": {
    "collapsed": false
   },
   "outputs": [],
   "source": [
    "# print tree to file and use xdot to visualizes and print to PDF.\n",
    "# (requires Graphviz to be installed)\n",
    "# http://www.graphviz.org/Download\n",
    "with open('Carseats-9.dot','w') as f:\n",
    "    features = df.drop(['Sales','High'],axis=1).columns.values\n",
    "    f = tree.export_graphviz(TR,out_file=f,\n",
    "                         feature_names=features)"
   ]
  },
  {
   "cell_type": "markdown",
   "metadata": {
    "collapsed": true
   },
   "source": [
    "Next we avoid overfitting by using 10-fold cross-validation to determine the optimal tree depth. This is less accurate in general than the full tree pruning procedure described in the book (ISLR). Scikit learn does not have the ISLR pruning procedure implemented."
   ]
  },
  {
   "cell_type": "code",
   "execution_count": 7,
   "metadata": {
    "collapsed": false
   },
   "outputs": [
    {
     "name": "stdout",
     "output_type": "stream",
     "text": [
      "max_depth = 1  test error rate 0.293\n",
      "max_depth = 2  test error rate 0.280\n",
      "max_depth = 4  test error rate 0.251\n"
     ]
    }
   ],
   "source": [
    "error_opt = 1.0\n",
    "for m in range(20):\n",
    "    TR = tree.DecisionTreeClassifier(max_depth=m+1)\n",
    "    error = (1 - cross_val_score(TR,x,y,cv=10)).mean()\n",
    "    if error_opt > error:\n",
    "        error_opt = error\n",
    "        max_depth_opt = m + 1\n",
    "        print('max_depth = %d  test error rate %0.3f' % (max_depth_opt,error_opt))"
   ]
  },
  {
   "cell_type": "code",
   "execution_count": 8,
   "metadata": {
    "collapsed": false
   },
   "outputs": [],
   "source": [
    "TR = tree.DecisionTreeClassifier(max_depth=4)\n",
    "TR.fit(x,y)\n",
    "with open('Carseats-4.dot','w') as f:\n",
    "    features = df.drop(['Sales','High'],axis=1).columns.values\n",
    "    f = tree.export_graphviz(TR,out_file=f,\n",
    "                         feature_names=features)"
   ]
  },
  {
   "cell_type": "code",
   "execution_count": null,
   "metadata": {
    "collapsed": true
   },
   "outputs": [],
   "source": []
  }
 ],
 "metadata": {
  "kernelspec": {
   "display_name": "Python 2",
   "language": "python",
   "name": "python2"
  },
  "language_info": {
   "codemirror_mode": {
    "name": "ipython",
    "version": 2
   },
   "file_extension": ".py",
   "mimetype": "text/x-python",
   "name": "python",
   "nbconvert_exporter": "python",
   "pygments_lexer": "ipython2",
   "version": "2.7.11"
  }
 },
 "nbformat": 4,
 "nbformat_minor": 0
}
