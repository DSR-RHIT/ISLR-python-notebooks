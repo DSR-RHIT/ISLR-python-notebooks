{
 "cells": [
  {
   "cell_type": "markdown",
   "metadata": {},
   "source": [
    "# ISLR Sec 6-6 Ridge and Lasso Regression"
   ]
  },
  {
   "cell_type": "code",
   "execution_count": 41,
   "metadata": {
    "collapsed": false
   },
   "outputs": [
    {
     "name": "stdout",
     "output_type": "stream",
     "text": [
      "(263, 20)\n"
     ]
    },
    {
     "data": {
      "text/html": [
       "<div>\n",
       "<table border=\"1\" class=\"dataframe\">\n",
       "  <thead>\n",
       "    <tr style=\"text-align: right;\">\n",
       "      <th></th>\n",
       "      <th>AtBat</th>\n",
       "      <th>Hits</th>\n",
       "      <th>HmRun</th>\n",
       "      <th>Runs</th>\n",
       "      <th>RBI</th>\n",
       "      <th>Walks</th>\n",
       "      <th>Years</th>\n",
       "      <th>CAtBat</th>\n",
       "      <th>CHits</th>\n",
       "      <th>CHmRun</th>\n",
       "      <th>CRuns</th>\n",
       "      <th>CRBI</th>\n",
       "      <th>CWalks</th>\n",
       "      <th>League</th>\n",
       "      <th>Division</th>\n",
       "      <th>PutOuts</th>\n",
       "      <th>Assists</th>\n",
       "      <th>Errors</th>\n",
       "      <th>Salary</th>\n",
       "      <th>NewLeague</th>\n",
       "    </tr>\n",
       "  </thead>\n",
       "  <tbody>\n",
       "    <tr>\n",
       "      <th>-Alan Ashby</th>\n",
       "      <td>315</td>\n",
       "      <td>81</td>\n",
       "      <td>7</td>\n",
       "      <td>24</td>\n",
       "      <td>38</td>\n",
       "      <td>39</td>\n",
       "      <td>14</td>\n",
       "      <td>3449</td>\n",
       "      <td>835</td>\n",
       "      <td>69</td>\n",
       "      <td>321</td>\n",
       "      <td>414</td>\n",
       "      <td>375</td>\n",
       "      <td>N</td>\n",
       "      <td>W</td>\n",
       "      <td>632</td>\n",
       "      <td>43</td>\n",
       "      <td>10</td>\n",
       "      <td>475</td>\n",
       "      <td>N</td>\n",
       "    </tr>\n",
       "    <tr>\n",
       "      <th>-Alvin Davis</th>\n",
       "      <td>479</td>\n",
       "      <td>130</td>\n",
       "      <td>18</td>\n",
       "      <td>66</td>\n",
       "      <td>72</td>\n",
       "      <td>76</td>\n",
       "      <td>3</td>\n",
       "      <td>1624</td>\n",
       "      <td>457</td>\n",
       "      <td>63</td>\n",
       "      <td>224</td>\n",
       "      <td>266</td>\n",
       "      <td>263</td>\n",
       "      <td>A</td>\n",
       "      <td>W</td>\n",
       "      <td>880</td>\n",
       "      <td>82</td>\n",
       "      <td>14</td>\n",
       "      <td>480</td>\n",
       "      <td>A</td>\n",
       "    </tr>\n",
       "    <tr>\n",
       "      <th>-Andre Dawson</th>\n",
       "      <td>496</td>\n",
       "      <td>141</td>\n",
       "      <td>20</td>\n",
       "      <td>65</td>\n",
       "      <td>78</td>\n",
       "      <td>37</td>\n",
       "      <td>11</td>\n",
       "      <td>5628</td>\n",
       "      <td>1575</td>\n",
       "      <td>225</td>\n",
       "      <td>828</td>\n",
       "      <td>838</td>\n",
       "      <td>354</td>\n",
       "      <td>N</td>\n",
       "      <td>E</td>\n",
       "      <td>200</td>\n",
       "      <td>11</td>\n",
       "      <td>3</td>\n",
       "      <td>500</td>\n",
       "      <td>N</td>\n",
       "    </tr>\n",
       "  </tbody>\n",
       "</table>\n",
       "</div>"
      ],
      "text/plain": [
       "               AtBat  Hits  HmRun  Runs  RBI  Walks  Years  CAtBat  CHits  \\\n",
       "-Alan Ashby      315    81      7    24   38     39     14    3449    835   \n",
       "-Alvin Davis     479   130     18    66   72     76      3    1624    457   \n",
       "-Andre Dawson    496   141     20    65   78     37     11    5628   1575   \n",
       "\n",
       "               CHmRun  CRuns  CRBI  CWalks League Division  PutOuts  Assists  \\\n",
       "-Alan Ashby        69    321   414     375      N        W      632       43   \n",
       "-Alvin Davis       63    224   266     263      A        W      880       82   \n",
       "-Andre Dawson     225    828   838     354      N        E      200       11   \n",
       "\n",
       "               Errors  Salary NewLeague  \n",
       "-Alan Ashby        10     475         N  \n",
       "-Alvin Davis       14     480         A  \n",
       "-Andre Dawson       3     500         N  "
      ]
     },
     "execution_count": 41,
     "metadata": {},
     "output_type": "execute_result"
    }
   ],
   "source": [
    "from __future__ import print_function\n",
    "import numpy as np\n",
    "import pandas as pd\n",
    "from sklearn.linear_model import RidgeCV,LassoCV,LinearRegression\n",
    "from sklearn.cross_validation import cross_val_score\n",
    "\n",
    "# load data that has been cleaned\n",
    "df = pd.read_csv('../Data/Hitters-cleaned.csv',index_col=0)\n",
    "print(df.shape)\n",
    "df.head(3)"
   ]
  },
  {
   "cell_type": "code",
   "execution_count": 2,
   "metadata": {
    "collapsed": false
   },
   "outputs": [
    {
     "name": "stdout",
     "output_type": "stream",
     "text": [
      "(263, 23)\n"
     ]
    },
    {
     "data": {
      "text/html": [
       "<div>\n",
       "<table border=\"1\" class=\"dataframe\">\n",
       "  <thead>\n",
       "    <tr style=\"text-align: right;\">\n",
       "      <th></th>\n",
       "      <th>AtBat</th>\n",
       "      <th>Hits</th>\n",
       "      <th>HmRun</th>\n",
       "      <th>Runs</th>\n",
       "      <th>RBI</th>\n",
       "      <th>Walks</th>\n",
       "      <th>Years</th>\n",
       "      <th>CAtBat</th>\n",
       "      <th>CHits</th>\n",
       "      <th>CHmRun</th>\n",
       "      <th>...</th>\n",
       "      <th>PutOuts</th>\n",
       "      <th>Assists</th>\n",
       "      <th>Errors</th>\n",
       "      <th>Salary</th>\n",
       "      <th>League_A</th>\n",
       "      <th>League_N</th>\n",
       "      <th>Division_E</th>\n",
       "      <th>Division_W</th>\n",
       "      <th>NewLeague_A</th>\n",
       "      <th>NewLeague_N</th>\n",
       "    </tr>\n",
       "  </thead>\n",
       "  <tbody>\n",
       "    <tr>\n",
       "      <th>-Alan Ashby</th>\n",
       "      <td>315</td>\n",
       "      <td>81</td>\n",
       "      <td>7</td>\n",
       "      <td>24</td>\n",
       "      <td>38</td>\n",
       "      <td>39</td>\n",
       "      <td>14</td>\n",
       "      <td>3449</td>\n",
       "      <td>835</td>\n",
       "      <td>69</td>\n",
       "      <td>...</td>\n",
       "      <td>632</td>\n",
       "      <td>43</td>\n",
       "      <td>10</td>\n",
       "      <td>475</td>\n",
       "      <td>0</td>\n",
       "      <td>1</td>\n",
       "      <td>0</td>\n",
       "      <td>1</td>\n",
       "      <td>0</td>\n",
       "      <td>1</td>\n",
       "    </tr>\n",
       "    <tr>\n",
       "      <th>-Alvin Davis</th>\n",
       "      <td>479</td>\n",
       "      <td>130</td>\n",
       "      <td>18</td>\n",
       "      <td>66</td>\n",
       "      <td>72</td>\n",
       "      <td>76</td>\n",
       "      <td>3</td>\n",
       "      <td>1624</td>\n",
       "      <td>457</td>\n",
       "      <td>63</td>\n",
       "      <td>...</td>\n",
       "      <td>880</td>\n",
       "      <td>82</td>\n",
       "      <td>14</td>\n",
       "      <td>480</td>\n",
       "      <td>1</td>\n",
       "      <td>0</td>\n",
       "      <td>0</td>\n",
       "      <td>1</td>\n",
       "      <td>1</td>\n",
       "      <td>0</td>\n",
       "    </tr>\n",
       "    <tr>\n",
       "      <th>-Andre Dawson</th>\n",
       "      <td>496</td>\n",
       "      <td>141</td>\n",
       "      <td>20</td>\n",
       "      <td>65</td>\n",
       "      <td>78</td>\n",
       "      <td>37</td>\n",
       "      <td>11</td>\n",
       "      <td>5628</td>\n",
       "      <td>1575</td>\n",
       "      <td>225</td>\n",
       "      <td>...</td>\n",
       "      <td>200</td>\n",
       "      <td>11</td>\n",
       "      <td>3</td>\n",
       "      <td>500</td>\n",
       "      <td>0</td>\n",
       "      <td>1</td>\n",
       "      <td>1</td>\n",
       "      <td>0</td>\n",
       "      <td>0</td>\n",
       "      <td>1</td>\n",
       "    </tr>\n",
       "  </tbody>\n",
       "</table>\n",
       "<p>3 rows × 23 columns</p>\n",
       "</div>"
      ],
      "text/plain": [
       "               AtBat  Hits  HmRun  Runs  RBI  Walks  Years  CAtBat  CHits  \\\n",
       "-Alan Ashby      315    81      7    24   38     39     14    3449    835   \n",
       "-Alvin Davis     479   130     18    66   72     76      3    1624    457   \n",
       "-Andre Dawson    496   141     20    65   78     37     11    5628   1575   \n",
       "\n",
       "               CHmRun     ...       PutOuts  Assists  Errors  Salary  \\\n",
       "-Alan Ashby        69     ...           632       43      10     475   \n",
       "-Alvin Davis       63     ...           880       82      14     480   \n",
       "-Andre Dawson     225     ...           200       11       3     500   \n",
       "\n",
       "               League_A  League_N  Division_E  Division_W  NewLeague_A  \\\n",
       "-Alan Ashby           0         1           0           1            0   \n",
       "-Alvin Davis          1         0           0           1            1   \n",
       "-Andre Dawson         0         1           1           0            0   \n",
       "\n",
       "               NewLeague_N  \n",
       "-Alan Ashby              1  \n",
       "-Alvin Davis             0  \n",
       "-Andre Dawson            1  \n",
       "\n",
       "[3 rows x 23 columns]"
      ]
     },
     "execution_count": 2,
     "metadata": {},
     "output_type": "execute_result"
    }
   ],
   "source": [
    "# convert qualitative data to \"one-hot-encoding\"\n",
    "df = pd.get_dummies(df,columns=['League','Division','NewLeague'])\n",
    "print(df.shape)\n",
    "df.head(3)"
   ]
  },
  {
   "cell_type": "markdown",
   "metadata": {},
   "source": [
    "### Ridge Regression (L2 Regularization)"
   ]
  },
  {
   "cell_type": "markdown",
   "metadata": {},
   "source": [
    "Note that the regularization parameter `alpha` is defined differently in scikit learn than it is in R. Results will vary. The \"null model\" is a model where all the coefficients are equal to (or nearly equal to) zero. This is the model that results from very large values of `alpha`."
   ]
  },
  {
   "cell_type": "code",
   "execution_count": 37,
   "metadata": {
    "collapsed": false
   },
   "outputs": [
    {
     "name": "stdout",
     "output_type": "stream",
     "text": [
      "optimal alpha = 0.013\n",
      "intercept = 95.085\n",
      "                     0\n",
      "AtBat        -1.465962\n",
      "Hits          5.134054\n",
      "HmRun         0.210809\n",
      "Runs         -0.014820\n",
      "RBI           0.184246\n",
      "Walks         4.930611\n",
      "Years       -10.759929\n",
      "CAtBat       -0.041510\n",
      "CHits         0.186562\n",
      "CHmRun        0.706264\n",
      "CRuns         0.605212\n",
      "CRBI          0.356873\n",
      "CWalks       -0.553759\n",
      "PutOuts       0.277622\n",
      "Assists       0.270305\n",
      "Errors       -3.819765\n",
      "League_A    -31.376282\n",
      "League_N     31.376282\n",
      "Division_E   62.171514\n",
      "Division_W  -62.171514\n",
      "NewLeague_A  14.641322\n",
      "NewLeague_N -14.641322\n",
      "magnitude of coefficients vector 101.553\n"
     ]
    }
   ],
   "source": [
    "# generate a range of 100 alpha parameters\n",
    "alpha = 10**np.linspace(10,-2,100)\n",
    "#alpha = [10**10] # null model\n",
    "\n",
    "LR_ridge = RidgeCV(alphas=alpha,normalize=True)\n",
    "\n",
    "x = df.drop('Salary',axis=1).values\n",
    "y = df.Salary.values\n",
    "y = np.reshape(y,(len(y),1))\n",
    "LR_ridge.fit(x,y)\n",
    "print('optimal alpha = %0.3f' % LR_ridge.alpha_)\n",
    "print('intercept = %0.3f' % LR_ridge.intercept_)\n",
    "col = df.drop('Salary',axis=1).columns\n",
    "print(pd.DataFrame(LR_ridge.coef_,columns=col).T)\n",
    "v = LR_ridge.coef_\n",
    "print('magnitude of coefficients vector %0.3f' % np.sqrt((v*v).sum()))"
   ]
  },
  {
   "cell_type": "markdown",
   "metadata": {
    "collapsed": true
   },
   "source": [
    "The features: `Hits, Walks, Years, League, Division, NewLeague` standout as important features. Uncomment `alpha = [10**10]` line to see what happens for very large alpha. You should get the `null model`."
   ]
  },
  {
   "cell_type": "markdown",
   "metadata": {
    "collapsed": true
   },
   "source": [
    "### Lasso Regression (L1 Regularization)"
   ]
  },
  {
   "cell_type": "code",
   "execution_count": 39,
   "metadata": {
    "collapsed": false
   },
   "outputs": [
    {
     "name": "stdout",
     "output_type": "stream",
     "text": [
      "optimal alpha = 0.285\n",
      "intercept = -12.770\n",
      "                        0\n",
      "AtBat       -1.017647e+00\n",
      "Hits         4.500007e+00\n",
      "HmRun        0.000000e+00\n",
      "Runs         0.000000e+00\n",
      "RBI          0.000000e+00\n",
      "Walks        3.768155e+00\n",
      "Years       -6.357509e+00\n",
      "CAtBat      -0.000000e+00\n",
      "CHits        0.000000e+00\n",
      "CHmRun       3.202674e-01\n",
      "CRuns        4.886699e-01\n",
      "CRBI         3.981709e-01\n",
      "CWalks      -3.110171e-01\n",
      "PutOuts      2.582885e-01\n",
      "Assists      7.206160e-02\n",
      "Errors      -1.168519e+00\n",
      "League_A    -2.903631e+01\n",
      "League_N     0.000000e+00\n",
      "Division_E   1.187075e+02\n",
      "Division_W  -2.103449e-14\n",
      "NewLeague_A -0.000000e+00\n",
      "NewLeague_N  0.000000e+00\n",
      "magnitude of coefficients vector 122.526\n"
     ]
    }
   ],
   "source": [
    "# generate a range of 100 alpha parameters\n",
    "alpha = 10**np.linspace(10,-2,100)\n",
    "#alpha = [10**10] # null model\n",
    "\n",
    "LR_lasso = LassoCV(alphas=alpha,normalize=True)\n",
    "\n",
    "x = df.drop('Salary',axis=1).values\n",
    "y = df.Salary.values\n",
    "#y = np.reshape(y,(len(y),1))\n",
    "LR_lasso.fit(x,y)\n",
    "print('optimal alpha = %0.3f' % LR_lasso.alpha_)\n",
    "print('intercept = %0.3f' % LR_lasso.intercept_)\n",
    "col = df.drop('Salary',axis=1).columns\n",
    "# need to reshape coef array for some reason.\n",
    "coef = np.reshape(LR_lasso.coef_,(1,len(LR_lasso.coef_))) \n",
    "print(pd.DataFrame(coef,columns=col).T)\n",
    "v = coef\n",
    "print('magnitude of coefficients vector %0.3f' % np.sqrt((v*v).sum()))"
   ]
  },
  {
   "cell_type": "markdown",
   "metadata": {},
   "source": [
    "A different combination of features standout as important. Uncomment `alpha = [10**10]` line to see what happens for very large alpha. You should get the `null model`."
   ]
  },
  {
   "cell_type": "markdown",
   "metadata": {},
   "source": [
    "### Comparisions using 10 fold cross-validation."
   ]
  },
  {
   "cell_type": "code",
   "execution_count": 51,
   "metadata": {
    "collapsed": false
   },
   "outputs": [
    {
     "name": "stdout",
     "output_type": "stream",
     "text": [
      "ordinary regression MSE = 116599.014\n",
      "ridge (L2) regression MSE = 114211.536\n",
      "lasso (L1) regression MSE = 115289.938\n",
      "null model MSE = 204591.764\n"
     ]
    }
   ],
   "source": [
    "LR = LinearRegression(normalize=True)\n",
    "LR.fit(x,y)\n",
    "MSE = -1.0*cross_val_score(LR,x,y,scoring='mean_squared_error',cv=10)\n",
    "print('ordinary regression MSE = %0.3f' % MSE.mean())\n",
    "\n",
    "LR_ridge = RidgeCV(alphas=[0.013],normalize=True)\n",
    "LR_ridge.fit(x,y)\n",
    "MSE = -1.0*cross_val_score(LR_ridge,x,y,scoring='mean_squared_error',cv=10)\n",
    "print('ridge (L2) regression MSE = %0.3f' % MSE.mean())\n",
    "\n",
    "LR_lasso = LassoCV(alphas=[0.285],normalize=True)\n",
    "LR_lasso.fit(x,y)\n",
    "MSE = -1.0*cross_val_score(LR_lasso,x,y,scoring='mean_squared_error',cv=10)\n",
    "print('lasso (L1) regression MSE = %0.3f' % MSE.mean())\n",
    "\n",
    "LR_null = LassoCV(alphas=[10**10],normalize=True)\n",
    "LR_null.fit(x,y)\n",
    "MSE = -1.0*cross_val_score(LR_null,x,y,scoring='mean_squared_error',cv=10)\n",
    "print('null model MSE = %0.3f' % MSE.mean())"
   ]
  },
  {
   "cell_type": "markdown",
   "metadata": {},
   "source": [
    "L2 regularization has lowest MSE, but L1 is easier to interpret because of the many exactly zero coefficients. The null model (all coefficients equal to 0) is the worst."
   ]
  },
  {
   "cell_type": "code",
   "execution_count": null,
   "metadata": {
    "collapsed": true
   },
   "outputs": [],
   "source": []
  }
 ],
 "metadata": {
  "kernelspec": {
   "display_name": "Python 2",
   "language": "python",
   "name": "python2"
  },
  "language_info": {
   "codemirror_mode": {
    "name": "ipython",
    "version": 2
   },
   "file_extension": ".py",
   "mimetype": "text/x-python",
   "name": "python",
   "nbconvert_exporter": "python",
   "pygments_lexer": "ipython2",
   "version": "2.7.11"
  }
 },
 "nbformat": 4,
 "nbformat_minor": 0
}
