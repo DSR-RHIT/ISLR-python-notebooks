{
 "cells": [
  {
   "cell_type": "markdown",
   "metadata": {},
   "source": [
    "# ISLR Sec. 5-3-4\n",
    "\n",
    "## Estimating the Accuracy of a Linear Regression Model"
   ]
  },
  {
   "cell_type": "code",
   "execution_count": null,
   "metadata": {
    "collapsed": true
   },
   "outputs": [],
   "source": [
    "from __future__ import print_function\n",
    "import numpy as np\n",
    "import pandas as pd\n",
    "from sklearn.preprocessing import PolynomialFeatures\n",
    "from sklearn.linear_model import LinearRegression\n",
    "from sklearn.utils import resample\n",
    "import matplotlib.pyplot as plt\n",
    "import matplotlib\n",
    "matplotlib.style.use('ggplot')\n",
    "%matplotlib inline"
   ]
  },
  {
   "cell_type": "code",
   "execution_count": null,
   "metadata": {
    "collapsed": false
   },
   "outputs": [],
   "source": [
    "df = pd.read_csv('../Data/Auto-cleaned.csv')\n",
    "df = df[['horsepower','mpg']]\n",
    "df.head(3)"
   ]
  },
  {
   "cell_type": "code",
   "execution_count": null,
   "metadata": {
    "collapsed": false
   },
   "outputs": [],
   "source": [
    "df.plot.scatter(x='horsepower',y='mpg')"
   ]
  },
  {
   "cell_type": "code",
   "execution_count": null,
   "metadata": {
    "collapsed": true
   },
   "outputs": [],
   "source": [
    "LR = LinearRegression()\n",
    "data = df.values"
   ]
  },
  {
   "cell_type": "code",
   "execution_count": null,
   "metadata": {
    "collapsed": false,
    "scrolled": true
   },
   "outputs": [],
   "source": [
    "num_boot = 1000\n",
    "deg = 3\n",
    "poly = PolynomialFeatures(degree=deg)\n",
    "coef = np.zeros((num_boot,deg+1))\n",
    "for k in range(num_boot):\n",
    "    bootstrap = resample(data)\n",
    "    #bootstrap = data # for debugging purposes\n",
    "    x = bootstrap[:,0]\n",
    "    y = bootstrap[:,1]\n",
    "    x = np.resize(x,(len(x),1))\n",
    "    y = np.resize(y,(len(y),1))\n",
    "    X = poly.fit_transform(x)\n",
    "    LR.fit(X,y)\n",
    "    coef[k,:] = LR.coef_\n",
    "    coef[k,0] = LR.intercept_\n",
    "print('coefficients')\n",
    "print('')\n",
    "print('mean')\n",
    "print(coef.mean(axis=0))\n",
    "print('')\n",
    "print('standard errors')\n",
    "print(coef.std(axis=0))"
   ]
  },
  {
   "cell_type": "markdown",
   "metadata": {},
   "source": [
    "### Confidence Intervals (not in textbook)"
   ]
  },
  {
   "cell_type": "markdown",
   "metadata": {},
   "source": [
    "Next, we compute 95% confidence intervals for each of the regression coefficients. If zero is contained in any of these confidence intervals, then the corresponding coefficient is not statistically different from zero at a 95% confidence level and it should not be used. (You can use higher or lower confidence levels depending on the particular application.)"
   ]
  },
  {
   "cell_type": "code",
   "execution_count": null,
   "metadata": {
    "collapsed": false
   },
   "outputs": [],
   "source": [
    "CI = np.percentile(coef,[5.0,95.0],axis=0)\n",
    "print(CI)"
   ]
  },
  {
   "cell_type": "markdown",
   "metadata": {},
   "source": [
    "The last confidence interval corresponds to the cubic term. It contains 0. The other coefficients are statistically different from zero at a significance level of 95%. This suggests we should use only a quadratic model."
   ]
  },
  {
   "cell_type": "code",
   "execution_count": null,
   "metadata": {
    "collapsed": true
   },
   "outputs": [],
   "source": []
  }
 ],
 "metadata": {
  "kernelspec": {
   "display_name": "Python 2",
   "language": "python",
   "name": "python2"
  },
  "language_info": {
   "codemirror_mode": {
    "name": "ipython",
    "version": 2
   },
   "file_extension": ".py",
   "mimetype": "text/x-python",
   "name": "python",
   "nbconvert_exporter": "python",
   "pygments_lexer": "ipython2",
   "version": "2.7.11"
  }
 },
 "nbformat": 4,
 "nbformat_minor": 0
}
