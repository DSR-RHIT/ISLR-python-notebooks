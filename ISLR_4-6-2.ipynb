{
 "cells": [
  {
   "cell_type": "markdown",
   "metadata": {},
   "source": [
    "# ISLR_4-6-2 Logistic Regression"
   ]
  },
  {
   "cell_type": "code",
   "execution_count": null,
   "metadata": {
    "collapsed": true
   },
   "outputs": [],
   "source": [
    "from __future__ import print_function\n",
    "import numpy as np\n",
    "import pandas as pd\n",
    "from sklearn.linear_model import LogisticRegression\n",
    "from sklearn.metrics import confusion_matrix,accuracy_score\n",
    "import matplotlib.pyplot as plt\n",
    "import matplotlib\n",
    "matplotlib.style.use('ggplot')\n",
    "%matplotlib inline  "
   ]
  },
  {
   "cell_type": "code",
   "execution_count": null,
   "metadata": {
    "collapsed": false
   },
   "outputs": [],
   "source": [
    "df = pd.read_csv('../Data/Smarket.csv')\n",
    "df.head(3)"
   ]
  },
  {
   "cell_type": "code",
   "execution_count": null,
   "metadata": {
    "collapsed": true
   },
   "outputs": [],
   "source": [
    "LgR = LogisticRegression()"
   ]
  },
  {
   "cell_type": "code",
   "execution_count": null,
   "metadata": {
    "collapsed": false
   },
   "outputs": [],
   "source": [
    "x = df.loc[:,'Lag1':'Volume'].values\n",
    "y = df.Direction\n",
    "LgR.fit(x,y)"
   ]
  },
  {
   "cell_type": "code",
   "execution_count": null,
   "metadata": {
    "collapsed": false
   },
   "outputs": [],
   "source": [
    "print(pd.DataFrame(LgR.coef_,columns=df.columns[1:7]))\n",
    "print()\n",
    "print('intercept %f' % LgR.intercept_)"
   ]
  },
  {
   "cell_type": "code",
   "execution_count": null,
   "metadata": {
    "collapsed": false
   },
   "outputs": [],
   "source": [
    "y_pred = LgR.predict(x)\n",
    "y_pred = np.resize(y_pred,(len(y_pred),1))\n",
    "y_prob = LgR.predict_proba(x)\n",
    "pd.DataFrame(data=np.hstack([y_prob,y_pred]),columns=['down','up','prediction']).head()"
   ]
  },
  {
   "cell_type": "markdown",
   "metadata": {},
   "source": [
    "### Confusion Matrix"
   ]
  },
  {
   "cell_type": "code",
   "execution_count": null,
   "metadata": {
    "collapsed": false
   },
   "outputs": [],
   "source": [
    "M = confusion_matrix(y,y_pred)\n",
    "labels = LgR.classes_\n",
    "ConfMat = pd.DataFrame(M,index=labels,columns=labels)\n",
    "ConfMat['total'] = ConfMat.sum(axis=1)\n",
    "ConfMat"
   ]
  },
  {
   "cell_type": "code",
   "execution_count": null,
   "metadata": {
    "collapsed": false
   },
   "outputs": [],
   "source": [
    "print('accuracy rate %0.3f' % accuracy_score(y,y_pred))"
   ]
  },
  {
   "cell_type": "code",
   "execution_count": null,
   "metadata": {
    "collapsed": false
   },
   "outputs": [],
   "source": [
    "x_train = df[df.Year<2005].loc[:,'Lag1':'Volume'].values\n",
    "y_train = df[df.Year<2005].Direction\n",
    "x_test  = df[df.Year==2005].loc[:,'Lag1':'Volume'].values\n",
    "y_test  = df[df.Year==2005].Direction\n",
    "\n",
    "LgR.fit(x_train,y_train)\n",
    "pred_future = LgR.predict(x_test)"
   ]
  },
  {
   "cell_type": "code",
   "execution_count": null,
   "metadata": {
    "collapsed": false
   },
   "outputs": [],
   "source": [
    "M = confusion_matrix(y_test,pred_future)\n",
    "labels = LgR.classes_\n",
    "ConfMat = pd.DataFrame(M,index=labels,columns=labels)\n",
    "ConfMat['total'] = ConfMat.sum(axis=1)\n",
    "ConfMat"
   ]
  },
  {
   "cell_type": "code",
   "execution_count": null,
   "metadata": {
    "collapsed": false
   },
   "outputs": [],
   "source": [
    "print('accuracy rate %0.3f' % accuracy_score(y_test,pred_future))"
   ]
  },
  {
   "cell_type": "code",
   "execution_count": null,
   "metadata": {
    "collapsed": false
   },
   "outputs": [],
   "source": [
    "x_train = df[df.Year<2005].loc[:,'Lag1':'Lag2'].values\n",
    "y_train = df[df.Year<2005].Direction\n",
    "x_test  = df[df.Year==2005].loc[:,'Lag1':'Lag2'].values\n",
    "y_test  = df[df.Year==2005].Direction\n",
    "\n",
    "LgR.fit(x_train,y_train)\n",
    "pred_future = LgR.predict(x_test)"
   ]
  },
  {
   "cell_type": "code",
   "execution_count": null,
   "metadata": {
    "collapsed": false
   },
   "outputs": [],
   "source": [
    "M = confusion_matrix(y_test,pred_future)\n",
    "labels = LgR.classes_\n",
    "ConfMat = pd.DataFrame(M,index=labels,columns=labels)\n",
    "ConfMat['total'] = ConfMat.sum(axis=1)\n",
    "ConfMat"
   ]
  },
  {
   "cell_type": "code",
   "execution_count": null,
   "metadata": {
    "collapsed": false
   },
   "outputs": [],
   "source": [
    "print('accuracy rate %0.3f' % accuracy_score(y_test,pred_future))"
   ]
  },
  {
   "cell_type": "code",
   "execution_count": null,
   "metadata": {
    "collapsed": false
   },
   "outputs": [],
   "source": [
    "print('accuracy on Up day predictions is %0.3f' % (106./(76+106)))"
   ]
  },
  {
   "cell_type": "code",
   "execution_count": null,
   "metadata": {
    "collapsed": false
   },
   "outputs": [],
   "source": [
    "pd.DataFrame(LgR.predict_proba([[1.2,1.1],[1.5,-0.8]]),columns=LgR.classes_)"
   ]
  },
  {
   "cell_type": "code",
   "execution_count": null,
   "metadata": {
    "collapsed": true
   },
   "outputs": [],
   "source": []
  }
 ],
 "metadata": {
  "kernelspec": {
   "display_name": "Python 2",
   "language": "python",
   "name": "python2"
  },
  "language_info": {
   "codemirror_mode": {
    "name": "ipython",
    "version": 2
   },
   "file_extension": ".py",
   "mimetype": "text/x-python",
   "name": "python",
   "nbconvert_exporter": "python",
   "pygments_lexer": "ipython2",
   "version": "2.7.11"
  }
 },
 "nbformat": 4,
 "nbformat_minor": 0
}
