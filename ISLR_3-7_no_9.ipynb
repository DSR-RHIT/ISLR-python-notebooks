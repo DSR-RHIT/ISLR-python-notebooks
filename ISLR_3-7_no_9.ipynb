{
 "cells": [
  {
   "cell_type": "markdown",
   "metadata": {},
   "source": [
    "# ISLR Exercises 3-7 Problem 9"
   ]
  },
  {
   "cell_type": "code",
   "execution_count": null,
   "metadata": {
    "collapsed": false
   },
   "outputs": [],
   "source": [
    "import numpy as np\n",
    "import pandas as pd\n",
    "from sklearn import linear_model\n",
    "from sklearn.metrics import mean_squared_error\n",
    "#import matplotlib.pyplot as plt\n",
    "#import matplotlib\n",
    "#matplotlib.style.use('ggplot')\n",
    "%matplotlib inline  \n",
    "import seaborn as sns # seaborn is based on matplotlib, but often nicer and easier to use\n",
    "sns.set()"
   ]
  },
  {
   "cell_type": "code",
   "execution_count": null,
   "metadata": {
    "collapsed": false
   },
   "outputs": [],
   "source": [
    "df = pd.read_csv('../Data/Auto.csv')\n",
    "df.head()"
   ]
  },
  {
   "cell_type": "code",
   "execution_count": null,
   "metadata": {
    "collapsed": true
   },
   "outputs": [],
   "source": [
    "# clean data by forcing conversion to numerical values and possibly to NaN values\n",
    "df['horsepower'] = pd.to_numeric(df['horsepower'],errors='coerce')\n",
    "# remove rows with NaN values\n",
    "df = df.dropna()"
   ]
  },
  {
   "cell_type": "markdown",
   "metadata": {},
   "source": [
    "### 9 (a)"
   ]
  },
  {
   "cell_type": "code",
   "execution_count": null,
   "metadata": {
    "collapsed": false
   },
   "outputs": [],
   "source": [
    "# seaborn scatter matrix\n",
    "sns.pairplot(df)"
   ]
  },
  {
   "cell_type": "markdown",
   "metadata": {},
   "source": [
    "### 9 (b)"
   ]
  },
  {
   "cell_type": "code",
   "execution_count": null,
   "metadata": {
    "collapsed": false
   },
   "outputs": [],
   "source": [
    "df.corr()"
   ]
  },
  {
   "cell_type": "markdown",
   "metadata": {},
   "source": [
    "### 9 (c)"
   ]
  },
  {
   "cell_type": "code",
   "execution_count": null,
   "metadata": {
    "collapsed": true
   },
   "outputs": [],
   "source": [
    "# create linear regression object\n",
    "LR = linear_model.LinearRegression()"
   ]
  },
  {
   "cell_type": "code",
   "execution_count": null,
   "metadata": {
    "collapsed": false
   },
   "outputs": [],
   "source": [
    "# fit (train) linear model\n",
    "df_x = df.drop(['mpg','name'],axis=1)\n",
    "x = df_x.values\n",
    "y = df.mpg.values\n",
    "# Pandas and Scikit Learn objects don't play nicely together yet, but people are working on it.\n",
    "#x = np.resize(x,(len(x),1))\n",
    "y = np.resize(y,(len(y),1))\n",
    "LR.fit(x,y)"
   ]
  },
  {
   "cell_type": "code",
   "execution_count": null,
   "metadata": {
    "collapsed": false
   },
   "outputs": [],
   "source": [
    "coef = pd.DataFrame(LR.coef_,columns=df_x.columns)\n",
    "coef.head()"
   ]
  },
  {
   "cell_type": "code",
   "execution_count": null,
   "metadata": {
    "collapsed": false
   },
   "outputs": [],
   "source": [
    "print 'intercept %f' % LR.intercept_"
   ]
  },
  {
   "cell_type": "code",
   "execution_count": null,
   "metadata": {
    "collapsed": false
   },
   "outputs": [],
   "source": [
    "# fraction of variation explained by predictor(s)\n",
    "print 'R-sqr = %f' % LR.score(x,y)"
   ]
  },
  {
   "cell_type": "markdown",
   "metadata": {},
   "source": [
    "(i) $R^2=0.82$ means 82 % of variation in mpg is explained by the predictors suggesting a strong relationship.\n",
    "\n",
    "(ii) (skipped because no p-values provided by scikit learn for the coefficients)\n",
    "\n",
    "(iii) approximately 0.75 mpg improvement per year"
   ]
  },
  {
   "cell_type": "markdown",
   "metadata": {},
   "source": [
    "### 9 (d)  (skipped)"
   ]
  },
  {
   "cell_type": "markdown",
   "metadata": {},
   "source": [
    "### 9 (e)"
   ]
  },
  {
   "cell_type": "code",
   "execution_count": null,
   "metadata": {
    "collapsed": true
   },
   "outputs": [],
   "source": [
    "from sklearn.preprocessing import PolynomialFeatures"
   ]
  },
  {
   "cell_type": "code",
   "execution_count": null,
   "metadata": {
    "collapsed": false
   },
   "outputs": [],
   "source": [
    "# fit full quadratic model\n",
    "poly = PolynomialFeatures(degree=2)\n",
    "X = poly.fit_transform(x)\n",
    "LR.fit(X,y)"
   ]
  },
  {
   "cell_type": "code",
   "execution_count": null,
   "metadata": {
    "collapsed": false
   },
   "outputs": [],
   "source": [
    "print 'number of coefficients = %d' % LR.coef_.shape[1]"
   ]
  },
  {
   "cell_type": "code",
   "execution_count": null,
   "metadata": {
    "collapsed": false
   },
   "outputs": [],
   "source": [
    "print 'intercept %f' % LR.intercept_"
   ]
  },
  {
   "cell_type": "code",
   "execution_count": null,
   "metadata": {
    "collapsed": false
   },
   "outputs": [],
   "source": [
    "# fraction of variation explained by predictor(s)\n",
    "print 'R-sqr = %f' % LR.score(X,y)"
   ]
  },
  {
   "cell_type": "markdown",
   "metadata": {},
   "source": [
    "The quadratic model has a total of 36 parameters. Many of these parameters may not be statistically significant. If our primary goal is prediction, we can use L1 or L2 regularization (to be covered later) to minimize or eliminate the effects of these parameters. Instead of computing p-values, we can use cross-validation (to be covered later) to minimize prediction error.\n",
    "\n",
    "Why does a full quadratic model of 7 variables have 36 parameters? Consider a quadratic model of just 2 variables $x_1$ and $x_2$:\n",
    "$$q(x_1,x_2)=\\beta_0+\\beta_1 x_1 + \\beta_2 x_2 +\\beta_3 x_1^2 + \\beta_4 x_1 x_2 + \\beta_5 x_2^2$$\n",
    "Can you explain why a 7 variable quadradic model has 36 parameters?\n",
    "\n",
    "Side Note: P-values can be estimated using a computationally intense but conceptually simple procedure known as bootstrapping (maybe covered later).\n",
    "    "
   ]
  },
  {
   "cell_type": "markdown",
   "metadata": {},
   "source": [
    "### 9 (f) (skipped)"
   ]
  },
  {
   "cell_type": "code",
   "execution_count": null,
   "metadata": {
    "collapsed": true
   },
   "outputs": [],
   "source": []
  }
 ],
 "metadata": {
  "kernelspec": {
   "display_name": "Python 2",
   "language": "python",
   "name": "python2"
  },
  "language_info": {
   "codemirror_mode": {
    "name": "ipython",
    "version": 2
   },
   "file_extension": ".py",
   "mimetype": "text/x-python",
   "name": "python",
   "nbconvert_exporter": "python",
   "pygments_lexer": "ipython2",
   "version": "2.7.10"
  }
 },
 "nbformat": 4,
 "nbformat_minor": 0
}
